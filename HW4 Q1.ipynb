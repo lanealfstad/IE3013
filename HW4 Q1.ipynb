{
 "cells": [
  {
   "cell_type": "code",
   "execution_count": 3,
   "id": "41309ea9",
   "metadata": {},
   "outputs": [
    {
     "name": "stdout",
     "output_type": "stream",
     "text": [
      "solution occurs near x = [0.00010448393268378049, 0.5000000000000041]\n"
     ]
    }
   ],
   "source": [
    "# primal barrier method from nocedal 19.6\n",
    "using LinearAlgebra\n",
    "\n",
    "# an implementation of the primal barrier method.\n",
    "# this is algorithmic framework 19.5 on page 584.\n",
    "function barrier(P, ∇P, x, c; μ=1)\n",
    "    \n",
    "    # THIS FUNCTION IS INCOMPLETE\n",
    "    τ = 1 # could be wrong, dont really understand\n",
    "    ϵ = 0.001\n",
    "    \n",
    "    for i in 1:10000\n",
    "        x = steepest_descent_barrier(P, ∇P, x, μ, c; ϵ=τ)\n",
    "        if norm(μ*B(x)) < ϵ\n",
    "            return x, μ\n",
    "        end\n",
    "        μ *= 0.9\n",
    "        τ *= 0.9\n",
    "        #println(\"current x and μ: \", x, \" \", μ)\n",
    "    end\n",
    "    return x, μ\n",
    "end\n",
    "\n",
    "# algorithm 3.1 (backtracking line search)\n",
    "# modified to work with barrier methods\n",
    "function backtracking_line_search_barrier(f, ∇f, x, μ, c, p)\n",
    "    α = .5     # initial step length\n",
    "    rho = 0.75\n",
    "    ctol = 1e-4\n",
    "\n",
    "    function stay_feasible(α)\n",
    "        while c(x + α*p) < 0\n",
    "            α *= rho\n",
    "        end\n",
    "        return α\n",
    "    end\n",
    "    α = stay_feasible(α)\n",
    "\n",
    "    while f(x + α*p, μ) > f(x, μ) + ctol*α*transpose(∇f(x, μ))*p \n",
    "        α *= rho\n",
    "        α = stay_feasible(α)\n",
    "    end\n",
    "    return α\n",
    "end\n",
    "\n",
    "# steepest descent modified to be used with barrier method\n",
    "function steepest_descent_barrier(f, ∇f, x, μ, c; ϵ=1e-3, k=1, c1=1e-4)\n",
    "\n",
    "    # THIS FUNCTION IS INCOMPLETE\n",
    "    i = 1\n",
    "    while norm(∇f(x, μ)) > ϵ\n",
    "        # compute the direction\n",
    "        B = -I       # steepest descent\n",
    "        p = B * ∇f(x, μ)\n",
    "        \n",
    "        # determine the step size\n",
    "        α = backtracking_line_search_barrier(f, ∇f, x, μ, c, p)\n",
    "\n",
    "        x = x + α*p  # the new iterate\n",
    "        #i % k == 0 && println(\"iteration \", i, \": step size = \", α, \", x = \", x)\n",
    "        i += 1\n",
    "    end\n",
    "    \n",
    "    return x\n",
    "end\n",
    "\n",
    "# solve the problem\n",
    "# min (x1 + 0.5)^2 + (x2 - 0.5)^2\n",
    "# s.t. x1 >= 0\n",
    "f(x) = (x[1]+0.5)^2 + (x[2]-0.5)^2\n",
    "c(x) = x[1]\n",
    "B(x) = -log(c(x))\n",
    "P(x,μ) = f(x) + μ*B(x)\n",
    "∇P(x,μ) = [ 2*(x[1]+0.5)-μ/x[1], 2*(x[2]-0.5) ]  # need this for steepest descent\n",
    "\n",
    "x0 = [1,1]   # start at a feasible point\n",
    "(x,μ) = barrier(P, ∇P, x0, c; μ=1.0)\n",
    "println(\"solution occurs near x = \", x)\n"
   ]
  },
  {
   "cell_type": "code",
   "execution_count": null,
   "id": "ede8faef",
   "metadata": {},
   "outputs": [],
   "source": [
    "# The function returns a solution of x1 = 0.00010448393268378049 and x2 = 0.5000000000000041. \n",
    "# From looking at the function it can be seen that the minimum occurs at (0,0.5) so the result is very accuate."
   ]
  }
 ],
 "metadata": {
  "kernelspec": {
   "display_name": "Julia 1.8.0",
   "language": "julia",
   "name": "julia-1.8"
  },
  "language_info": {
   "file_extension": ".jl",
   "mimetype": "application/julia",
   "name": "julia",
   "version": "1.8.0"
  }
 },
 "nbformat": 4,
 "nbformat_minor": 5
}
