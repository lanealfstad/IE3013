{
 "cells": [
  {
   "cell_type": "code",
   "execution_count": 8,
   "id": "f9c0c2a2",
   "metadata": {},
   "outputs": [
    {
     "name": "stdout",
     "output_type": "stream",
     "text": [
      "iteration 1: step size = 0.0017838067156503712, x = 5.062690307694176\n",
      "iteration 2: step size = 0.0017838067156503712, x = 4.962885156282822\n",
      "iteration 3: step size = 0.0017838067156503712, x = 5.022765523543388\n",
      "iteration 4: step size = 0.0017838067156503712, x = 4.986328013973473\n",
      "iteration 5: step size = 0.0017838067156503712, x = 5.008317406833242\n",
      "iteration 6: step size = 0.0017838067156503712, x = 4.994979229469013\n",
      "iteration 7: step size = 0.0017838067156503712, x = 5.003045102117129\n",
      "iteration 8: step size = 0.0017838067156503712, x = 4.9981584005430975\n",
      "iteration 9: step size = 0.0017838067156503712, x = 5.001115678289755\n",
      "iteration 10: step size = 0.0017838067156503712, x = 4.999324805741303\n",
      "iteration 11: step size = 0.0017838067156503712, x = 5.000408877777004\n",
      "iteration 12: step size = 0.0017838067156503712, x = 4.999752490530704\n",
      "iteration 13: step size = 0.0017838067156503712, x = 5.000149861792298\n",
      "iteration 14: step size = 0.0017838067156503712, x = 4.999909274575312\n",
      "optimal solution at x* = 4.999909274575312\n",
      "f(x*) = 17374.999996295974\n"
     ]
    }
   ],
   "source": [
    "######### Question 2 #########\n",
    "## b ##\n",
    "using Plots, LinearAlgebra\n",
    "\n",
    "function line_search(f, ∇f, x, p; strong=true, c1=1e-4, c2=0.9, rho=0.75)\n",
    "    α = 1    # initial step length = 1 required for newton-like methods\n",
    "    if strong == true\n",
    "        while f(x + α*p) > f(x) + c1*α*∇f(x)'*p || abs(dot(∇f(x + α*p),p)) > c2*abs(dot(∇f(x),p))\n",
    "            α = rho * α\n",
    "        end\n",
    "    else\n",
    "        while f(x + α*p) > f(x) + c1*α*transpose(∇f(x))*p || transpose(∇f(x + α*p))*p < c2*transpose(∇f(x))*p\n",
    "            α = rho * α\n",
    "        end\n",
    "    end\n",
    "    return α\n",
    "end\n",
    "\n",
    "function steepest_descent(f, ∇f, x; ϵ=1e-1, k=10)\n",
    "    i = 1\n",
    "    while norm(∇f(x)) > ϵ\n",
    "        # compute the direction\n",
    "        #B = -I       # steepest descent\n",
    "        p = -∇f(x)\n",
    "        \n",
    "        # determine the step size\n",
    "        α = line_search(f, ∇f, x, p, strong=true, c1=.001, c2=0.9, rho=0.75)\n",
    "\n",
    "        x = x + α*p  # the new iterate\n",
    "        i % k == 0 && println(\"iteration \", i, \": step size = \", α, \", x = \", x)\n",
    "        i += 1\n",
    "    end\n",
    "    return x\n",
    "end\n",
    "\n",
    "\n",
    "f(x) = -(500 - x*(x-20)^3) #negative of f(x) given in problem\n",
    "∇f(x) = -(-3x*(x-20)^2 - (x-20)^3)\n",
    "∇2f(x) = -(-6x*(x-20) - 6(x-20)^2)\n",
    "\n",
    "x0 = 4.9 # initial point\n",
    "optimal = steepest_descent(f, ∇f, x0, k=1)\n",
    "println(\"optimal solution at x* = \", optimal)\n",
    "println(\"f(x*) = \", f(optimal) * (-1)) # multiplying by -1 because I defined f(x) as the negative of the f given in the problem\n",
    "\n",
    "# Compared to the actual optimal x* the answer is very close. \n",
    "# If ϵ was smaller, a more accurate answer would be produced."
   ]
  }
 ],
 "metadata": {
  "kernelspec": {
   "display_name": "Julia 1.8.0",
   "language": "julia",
   "name": "julia-1.8"
  },
  "language_info": {
   "file_extension": ".jl",
   "mimetype": "application/julia",
   "name": "julia",
   "version": "1.8.0"
  }
 },
 "nbformat": 4,
 "nbformat_minor": 5
}
