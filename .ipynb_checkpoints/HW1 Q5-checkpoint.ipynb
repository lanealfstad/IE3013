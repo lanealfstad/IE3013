{
 "cells": [
  {
   "cell_type": "code",
   "execution_count": 1,
   "id": "12e38bc6",
   "metadata": {
    "scrolled": false
   },
   "outputs": [
    {
     "data": {
      "text/plain": [
       "16-element Vector{Float64}:\n",
       "  2596.8\n",
       "  3328.0\n",
       "  3181.1\n",
       "  3198.4\n",
       "  4779.9\n",
       "  5905.6\n",
       "  5769.2\n",
       "  8089.5\n",
       "  4813.1\n",
       "  5618.7\n",
       "  7736.0\n",
       "  6788.3\n",
       "  7840.8\n",
       "  8882.5\n",
       " 10489.5\n",
       " 12506.6"
      ]
     },
     "execution_count": 1,
     "metadata": {},
     "output_type": "execute_result"
    }
   ],
   "source": [
    "######### Question 7 #########\n",
    "\n",
    "### a ###\n",
    "using DataFrames, CSV, LinearAlgebra\n",
    "oil = CSV.read(\"oil-well-drilling-costs.csv\", DataFrame)\n",
    "\n",
    "using StatsModels\n",
    "fo = @formula(Cost ~ 1 + Depth)\n",
    "A = modelmatrix(fo.rhs, oil)      # model matrix\n",
    "b = vec(modelmatrix(fo.lhs, oil)) # the response"
   ]
  },
  {
   "cell_type": "code",
   "execution_count": 2,
   "id": "d9a1c283",
   "metadata": {},
   "outputs": [
    {
     "data": {
      "text/plain": [
       "∇f (generic function with 1 method)"
      ]
     },
     "execution_count": 2,
     "metadata": {},
     "output_type": "execute_result"
    }
   ],
   "source": [
    "### b ###\n",
    "∇f(x) = A'*A*x - A'*b "
   ]
  },
  {
   "cell_type": "code",
   "execution_count": 3,
   "id": "14bdb592",
   "metadata": {},
   "outputs": [
    {
     "data": {
      "text/plain": [
       "H (generic function with 1 method)"
      ]
     },
     "execution_count": 3,
     "metadata": {},
     "output_type": "execute_result"
    }
   ],
   "source": [
    "### c ###\n",
    "H(x) = A'*A"
   ]
  },
  {
   "cell_type": "code",
   "execution_count": 4,
   "id": "39112083",
   "metadata": {},
   "outputs": [
    {
     "data": {
      "text/plain": [
       "steep (generic function with 1 method)"
      ]
     },
     "execution_count": 4,
     "metadata": {},
     "output_type": "execute_result"
    }
   ],
   "source": [
    "#### d ###\n",
    "function steep(f, ∇f, x; α=0.01, ϵ=1e-1, k=10)\n",
    "    i = 1\n",
    "    while norm(∇f(x)) > ϵ\n",
    "        p = -∇f(x)   # steepest descent direction\n",
    "        \n",
    "        # fixed step size for now\n",
    "\n",
    "        x = x + α*p  # the new iterate\n",
    "        i % k == 0 && println(\"iteration \", i, \". x = \", x)\n",
    "        i += 1\n",
    "    end\n",
    "    return x\n",
    "end"
   ]
  },
  {
   "cell_type": "code",
   "execution_count": 5,
   "id": "8dcd6833",
   "metadata": {},
   "outputs": [
    {
     "data": {
      "text/plain": [
       "newton (generic function with 1 method)"
      ]
     },
     "execution_count": 5,
     "metadata": {},
     "output_type": "execute_result"
    }
   ],
   "source": [
    "#### e ###\n",
    "function newton(f, ∇f, H, x; α=1, ϵ=1e-1, k=10)\n",
    "    i = 1\n",
    "    while norm(∇f(x)) > ϵ\n",
    "        p = -inv(H(x))*∇f(x)   # descent direction\n",
    "        \n",
    "        # fixed step size for now\n",
    "\n",
    "        x = x + α*p  # the new iterate\n",
    "        i % k == 0 && println(\"iteration \", i, \". x = \", x)\n",
    "        i += 1\n",
    "    end\n",
    "    return x\n",
    "end"
   ]
  },
  {
   "cell_type": "code",
   "execution_count": 6,
   "id": "5e286ee1",
   "metadata": {},
   "outputs": [
    {
     "name": "stdout",
     "output_type": "stream",
     "text": [
      "iteration 1000000. x = [-2200.101704912673, 0.9951222406213811]\n",
      "iteration 2000000. x = [-2200.2033283276332, 0.9951330895727393]\n",
      "iteration 3000000. x = [-2200.304817565583, 0.9951439241998413]\n",
      "iteration 4000000. x = [-2200.4061728039305, 0.9951547445216261]\n",
      "iteration 5000000. x = [-2200.507394219409, 0.9951655505569614]\n",
      "iteration 6000000. x = [-2200.608481988948, 0.9951763423247354]\n",
      "iteration 7000000. x = [-2200.709436288605, 0.9951871198437434]\n",
      "iteration 8000000. x = [-2200.810257295004, 0.9951978831328413]\n",
      "iteration 9000000. x = [-2200.910945183918, 0.9952086322107938]\n",
      "iteration 10000000. x = [-2201.0115001312743, 0.9952193670963823]\n",
      "iteration 11000000. x = [-2201.111922312338, 0.9952300878083175]\n",
      "iteration 12000000. x = [-2201.212211902817, 0.9952407943653575]\n",
      "iteration 13000000. x = [-2201.312369077369, 0.9952514867861478]\n",
      "iteration 14000000. x = [-2201.412394010786, 0.9952621650893487]\n",
      "iteration 15000000. x = [-2201.5122868781314, 0.9952728292936497]\n",
      "iteration 16000000. x = [-2201.612047853359, 0.9952834794176207]\n",
      "iteration 17000000. x = [-2201.711677110904, 0.9952941154798846]\n",
      "iteration 18000000. x = [-2201.811174824423, 0.9953047374989797]\n",
      "iteration 19000000. x = [-2201.910541167815, 0.9953153454934714]\n",
      "iteration 20000000. x = [-2202.009776314278, 0.9953259394818496]\n",
      "iteration 21000000. x = [-2202.1088804372944, 0.995336519482634]\n",
      "iteration 22000000. x = [-2202.20785370967, 0.9953470855142735]\n",
      "iteration 23000000. x = [-2202.306696304385, 0.9953576375952345]\n",
      "iteration 24000000"
     ]
    },
    {
     "ename": "LoadError",
     "evalue": "InterruptException:",
     "output_type": "error",
     "traceback": [
      "InterruptException:",
      "",
      "Stacktrace:",
      "  [1] try_yieldto(undo::typeof(Base.ensure_rescheduled))",
      "    @ Base .\\task.jl:871",
      "  [2] wait()",
      "    @ Base .\\task.jl:931",
      "  [3] uv_write(s::Base.PipeEndpoint, p::Ptr{UInt8}, n::UInt64)",
      "    @ Base .\\stream.jl:1043",
      "  [4] unsafe_write(s::Base.PipeEndpoint, p::Ptr{UInt8}, n::UInt64)",
      "    @ Base .\\stream.jl:1115",
      "  [5] unsafe_write",
      "    @ .\\io.jl:419 [inlined]",
      "  [6] write",
      "    @ .\\strings\\io.jl:244 [inlined]",
      "  [7] show",
      "    @ .\\show.jl:1061 [inlined]",
      "  [8] print(io::IJulia.IJuliaStdio{Base.PipeEndpoint}, x::Int64)",
      "    @ Base .\\strings\\io.jl:35",
      "  [9] print(::IJulia.IJuliaStdio{Base.PipeEndpoint}, ::String, ::Int64, ::Vararg{Any})",
      "    @ Base .\\strings\\io.jl:46",
      " [10] println(::IJulia.IJuliaStdio{Base.PipeEndpoint}, ::String, ::Vararg{Any})",
      "    @ Base .\\strings\\io.jl:75",
      " [11] println(::String, ::Int64, ::Vararg{Any})",
      "    @ Base .\\coreio.jl:4",
      " [12] steep(f::FormulaTerm{Term, Tuple{ConstantTerm{Int64}, Term}}, ∇f::typeof(∇f), x::Vector{Float64}; α::Float64, ϵ::Float64, k::Int64)",
      "    @ Main .\\In[4]:10",
      " [13] top-level scope",
      "    @ In[6]:3",
      " [14] eval",
      "    @ .\\boot.jl:368 [inlined]",
      " [15] include_string(mapexpr::typeof(REPL.softscope), mod::Module, code::String, filename::String)",
      "    @ Base .\\loading.jl:1428"
     ]
    }
   ],
   "source": [
    "### f ###\n",
    "x0 = [-2200, 0.5] # initial guess\n",
    "steep(fo, ∇f, x0, α=0.000000001, k=1000000) #using steepest desent method (takes a long time)\n",
    "newton(fo, ∇f, H, x0, α=1, k=1) #using Newton method (only takes one iteration)"
   ]
  },
  {
   "cell_type": "code",
   "execution_count": 7,
   "id": "0e157982",
   "metadata": {},
   "outputs": [
    {
     "data": {
      "text/plain": [
       "StatsModels.TableRegressionModel{LinearModel{GLM.LmResp{Vector{Float64}}, GLM.DensePredChol{Float64, CholeskyPivoted{Float64, Matrix{Float64}, Vector{Int64}}}}, Matrix{Float64}}\n",
       "\n",
       "Cost ~ 1 + Depth\n",
       "\n",
       "Coefficients:\n",
       "────────────────────────────────────────────────────────────────────────────────\n",
       "                   Coef.   Std. Error      t  Pr(>|t|)     Lower 95%   Upper 95%\n",
       "────────────────────────────────────────────────────────────────────────────────\n",
       "(Intercept)  -2277.07     765.499      -2.97    0.0100  -3918.9       -635.238\n",
       "Depth            1.00334    0.0853205  11.76    <1e-07      0.820345     1.18633\n",
       "────────────────────────────────────────────────────────────────────────────────"
      ]
     },
     "execution_count": 7,
     "metadata": {},
     "output_type": "execute_result"
    }
   ],
   "source": [
    "### g ###\n",
    "using GLM\n",
    "lm(fo, oil)  # to check our solution"
   ]
  },
  {
   "cell_type": "code",
   "execution_count": 9,
   "id": "e951f762",
   "metadata": {},
   "outputs": [
    {
     "data": {
      "image/png": "[encoded data removed]"
     },
     "execution_count": 9,
     "metadata": {},
     "output_type": "execute_result"
    }
   ],
   "source": [
    "using Plots\n",
    "f(x1,x2) = 0.5*(norm(A*[x1 x2]'-b))^2\n",
    "\n",
    "intercept = range(-2280, -2270, length=1000)\n",
    "depth = range(0.9, 1.1, length=1000)\n",
    "\n",
    "contour(intercept, depth, f, fmt = :png)\n",
    "\n",
    "# Both methods converge, however the steepest desent takes many iterations,\n",
    "# and the Newton method only takes one.\n",
    "# The steepest desent method performs very poorly because \n",
    "# it does not take into account the curvature in of the objective function.\n",
    "# The Newton method takes into acount curvature information so it\n",
    "# can find the minimum much quicker. \n",
    "# The curvature on this specific function looks quadratic so the \n",
    "# Newton direction is very reliable."
   ]
  }
 ],
 "metadata": {
  "kernelspec": {
   "display_name": "Julia 1.8.0",
   "language": "julia",
   "name": "julia-1.8"
  },
  "language_info": {
   "file_extension": ".jl",
   "mimetype": "application/julia",
   "name": "julia",
   "version": "1.8.0"
  }
 },
 "nbformat": 4,
 "nbformat_minor": 5
}
