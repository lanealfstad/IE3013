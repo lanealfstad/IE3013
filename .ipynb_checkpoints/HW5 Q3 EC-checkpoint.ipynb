{
 "cells": [
  {
   "cell_type": "code",
   "execution_count": 42,
   "id": "5ec2f25b",
   "metadata": {},
   "outputs": [
    {
     "data": {
      "text/plain": [
       "qlearning! (generic function with 1 method)"
      ]
     },
     "execution_count": 42,
     "metadata": {},
     "output_type": "execute_result"
    }
   ],
   "source": [
    "## ONLY SOLVED PART A\n",
    "## a ##\n",
    "function move(s, a)\n",
    "    if a == 1                  #up\n",
    "        if s in collect(1:12)\n",
    "            new_s = s\n",
    "            r = -1\n",
    "        else\n",
    "            new_s = s - 12\n",
    "            r = -1\n",
    "        end\n",
    "    end\n",
    "    if a == 2                  #down\n",
    "        if s == 37\n",
    "            new_s = s\n",
    "            r = -1\n",
    "        elseif s in collect(26:35)\n",
    "            new_s = 37\n",
    "            r = -100\n",
    "        else\n",
    "            new_s = s + 12\n",
    "            r = -1\n",
    "        end\n",
    "    end\n",
    "    if a == 3                  #right\n",
    "        if s == 37\n",
    "            new_s = 37\n",
    "            r = -100\n",
    "        elseif s in [12, 24, 36]\n",
    "            new_s = s\n",
    "            r = -1\n",
    "        else\n",
    "            new_s = s + 1\n",
    "            r = -1\n",
    "        end\n",
    "    end\n",
    "    if a == 4                  #left\n",
    "        if s in [1, 13, 25, 37]\n",
    "            new_s = s\n",
    "            r = -1\n",
    "        else\n",
    "            new_s = s - 1\n",
    "            r = -1\n",
    "        end\n",
    "    end\n",
    "    return new_s, r\n",
    "end\n",
    "\n",
    "function sarsa!(q)\n",
    "    episodes = 5000\n",
    "    for i in 1:episodes\n",
    "        s = 37\n",
    "        a = findmax(q[s,:])[2]\n",
    "        while s != 48\n",
    "            new_s, r = move(s, a)\n",
    "            new_a = findmax(q[new_s,:])[2]\n",
    "            q[s,a] = q[s,a] + α*(r + δ*q[new_s,new_a] - q[s,a])\n",
    "            s = new_s\n",
    "            a = new_a\n",
    "        end\n",
    "    end\n",
    "end\n",
    "\n",
    "function qlearning!(q)\n",
    "    episodes = 5000\n",
    "    for i in 1:episodes\n",
    "        s = 37\n",
    "        while s != 48\n",
    "            a = findmax(q[s,:])[2]\n",
    "            new_s, r = move(s, a)\n",
    "            a_max = findmax(q[new_s,:])[2]\n",
    "            q[s,a] = q[s,a] + α*(r + δ*q[new_s,a_max] - q[s,a])\n",
    "            s = new_s\n",
    "        end\n",
    "    end\n",
    "end\n"
   ]
  },
  {
   "cell_type": "code",
   "execution_count": 43,
   "id": "7187a8f6",
   "metadata": {},
   "outputs": [],
   "source": [
    "S = collect(1:48) # possible states\n",
    "q = zeros(48, 4) \n",
    "α = 0.5\n",
    "δ = 0.9\n",
    "sarsa!(q)"
   ]
  },
  {
   "cell_type": "code",
   "execution_count": 49,
   "id": "96b30d6a",
   "metadata": {},
   "outputs": [
    {
     "data": {
      "text/plain": [
       "4×12 Matrix{Float64}:\n",
       " 1.0  4.0  4.0  2.0  3.0  3.0  4.0  3.0  3.0  3.0  2.0  1.0\n",
       " 4.0  3.0  3.0  3.0  3.0  3.0  3.0  3.0  2.0  2.0  3.0  2.0\n",
       " 3.0  3.0  3.0  3.0  3.0  3.0  3.0  3.0  3.0  3.0  3.0  2.0\n",
       " 1.0  1.0  1.0  1.0  1.0  1.0  1.0  1.0  1.0  1.0  1.0  1.0"
      ]
     },
     "execution_count": 49,
     "metadata": {},
     "output_type": "execute_result"
    }
   ],
   "source": [
    "grid = zeros(4,12)\n",
    "for s in 1:12\n",
    "    grid[1,s] = findmax(q[s,:])[2]\n",
    "end\n",
    "for s in 13:24\n",
    "    grid[2,s-12] = findmax(q[s,:])[2]\n",
    "end\n",
    "for s in 25:36\n",
    "    grid[3,s-24] = findmax(q[s,:])[2]\n",
    "end\n",
    "for s in 37:48\n",
    "    grid[4,s-36] = findmax(q[s,:])[2]\n",
    "end\n",
    "grid # 1 = up, 2 = down, 3 = right, 4 = left\n"
   ]
  },
  {
   "cell_type": "code",
   "execution_count": 46,
   "id": "f7ee49bb",
   "metadata": {},
   "outputs": [],
   "source": [
    "S = collect(1:48) # possible states\n",
    "q = zeros(48, 4) \n",
    "α = 0.5\n",
    "δ = 0.9\n",
    "qlearning!(q)"
   ]
  },
  {
   "cell_type": "code",
   "execution_count": 50,
   "id": "f102e734",
   "metadata": {},
   "outputs": [
    {
     "data": {
      "text/plain": [
       "4×12 Matrix{Float64}:\n",
       " 1.0  4.0  4.0  2.0  3.0  3.0  4.0  3.0  3.0  3.0  2.0  1.0\n",
       " 4.0  3.0  3.0  3.0  3.0  3.0  3.0  3.0  2.0  2.0  3.0  2.0\n",
       " 3.0  3.0  3.0  3.0  3.0  3.0  3.0  3.0  3.0  3.0  3.0  2.0\n",
       " 1.0  1.0  1.0  1.0  1.0  1.0  1.0  1.0  1.0  1.0  1.0  1.0"
      ]
     },
     "execution_count": 50,
     "metadata": {},
     "output_type": "execute_result"
    }
   ],
   "source": [
    "grid = zeros(4,12)\n",
    "for s in 1:12\n",
    "    grid[1,s] = findmax(q[s,:])[2]\n",
    "end\n",
    "for s in 13:24\n",
    "    grid[2,s-12] = findmax(q[s,:])[2]\n",
    "end\n",
    "for s in 25:36\n",
    "    grid[3,s-24] = findmax(q[s,:])[2]\n",
    "end\n",
    "for s in 37:48\n",
    "    grid[4,s-36] = findmax(q[s,:])[2]\n",
    "end\n",
    "grid # 1 = up, 2 = down, 3 = right, 4 = left\n"
   ]
  }
 ],
 "metadata": {
  "kernelspec": {
   "display_name": "Julia 1.8.0",
   "language": "julia",
   "name": "julia-1.8"
  },
  "language_info": {
   "file_extension": ".jl",
   "mimetype": "application/julia",
   "name": "julia",
   "version": "1.8.0"
  }
 },
 "nbformat": 4,
 "nbformat_minor": 5
}
