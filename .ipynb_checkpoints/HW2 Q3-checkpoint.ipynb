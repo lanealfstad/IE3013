{
 "cells": [
  {
   "cell_type": "code",
   "execution_count": 74,
   "id": "7f1a3412",
   "metadata": {},
   "outputs": [
    {
     "data": {
      "text/plain": [
       "∇2f (generic function with 1 method)"
      ]
     },
     "execution_count": 74,
     "metadata": {},
     "output_type": "execute_result"
    }
   ],
   "source": [
    "######### Question 3 #########\n",
    "\n",
    "## data ##\n",
    "using DataFrames, CSV, LinearAlgebra\n",
    "using StatsModels\n",
    "a = [19, 2, 9, 4, 5, 6, 3, 11, 14, 17, 1, 20]\n",
    "b = [7.9, 25.0, 13.1, 17.4, 19.5, 13.0, 17.8, 8.0, 9.2, 6.3, 42.0, 6.6]\n",
    "\n",
    "function f(x)\n",
    "    return sum((b - x[1]*a.^x[2]).^2)\n",
    "end\n",
    "\n",
    "function ∇f(x)\n",
    "    return [-2*sum((b - x[1]*a.^x[2]).*(a.^x[2])), -2*sum((b - x[1]*a.^x[2]).*(x[1]*a.^x[2]).*(log.(a))) ]\n",
    "end\n",
    "\n",
    "function ∇2f(x)\n",
    "    h11 = 2*sum(a.^(2*x[2]))\n",
    "    h12 = -2*sum((b.*a.^x[2].*log.(a))-(2*x[1].*(a.^(2*x[2])).*log.(a)))\n",
    "    h21 = h12\n",
    "    h22 = -2*sum((b*x[1].*((log.(a)).^2).*(a.^x[2]))-(2*(x[1]^2).*((log.(a)).^2).*(a.^(2*x[2])))) \n",
    "    return [h11 h12; h21 h22]\n",
    "end"
   ]
  },
  {
   "cell_type": "code",
   "execution_count": 73,
   "id": "7ff1173e",
   "metadata": {},
   "outputs": [
    {
     "name": "stdout",
     "output_type": "stream",
     "text": [
      "iteration 500: step size = 0.00013393656762751105, x = [12.00864205664398, -0.019098160165934012]\n",
      "iteration 1000: step size = 0.00013393656762751105, x = [17.968759877364107, -0.18812590034530932]\n",
      "iteration 1500: step size = 0.00017858209017001473, x = [22.460434359065008, -0.28789235786949974]\n",
      "iteration 2000: step size = 0.00013393656762751105, x = [26.025052749157844, -0.3601651905605745]\n",
      "iteration 2500: step size = 0.00017858209017001473, x = [28.892731572087445, -0.41024385073844]\n",
      "iteration 3000: step size = 0.00017858209017001473, x = [31.20870102466586, -0.45148960797770427]\n",
      "iteration 3500: step size = 0.00017858209017001473, x = [33.08137205269972, -0.4820132220405172]\n",
      "iteration 4000: step size = 0.00017858209017001473, x = [34.59061393288675, -0.5081386549327069]\n",
      "iteration 4500: step size = 0.00017858209017001473, x = [35.80653017931309, -0.5273787225221492]\n",
      "iteration 5000: step size = 0.00017858209017001473, x = [36.783564746895266, -0.5428611296044219]\n",
      "iteration 5500: step size = 0.00017858209017001473, x = [37.567638134402614, -0.5546476658648875]\n",
      "iteration 6000: step size = 0.00017858209017001473, x = [38.19560091347345, -0.5646441590666242]\n",
      "iteration 6500: step size = 0.00017858209017001473, x = [38.69849251639882, -0.571790036447265]\n",
      "iteration 7000: step size = 0.00017858209017001473, x = [39.100671530061696, -0.5782175730766431]\n",
      "iteration 7500: step size = 0.00017858209017001473, x = [39.42276232280322, -0.5832023442499801]\n",
      "iteration 8000: step size = 0.00017858209017001473, x = [39.680302801653774, -0.5871766647871407]\n",
      "iteration 8500: step size = 0.00023810945356001964, x = [39.88601284993455, -0.5902249582688456]\n",
      "iteration 9000: step size = 0.00017858209017001473, x = [40.04995533862559, -0.5928388826847618]\n",
      "iteration 9500: step size = 0.00017858209017001473, x = [40.18067302604833, -0.5947955627892072]\n",
      "iteration 10000: step size = 0.00023810945356001964, x = [40.28479864822416, -0.5962830245568488]\n",
      "iteration 10500: step size = 0.00017858209017001473, x = [40.36757024770748, -0.5975997045865479]\n",
      "iteration 11000: step size = 0.00017858209017001473, x = [40.43345119510059, -0.5985803604336799]\n",
      "iteration 11500: step size = 0.00017858209017001473, x = [40.48584368419979, -0.5993446379912335]\n",
      "iteration 12000: step size = 0.00017858209017001473, x = [40.52747869864775, -0.5999662733573472]\n",
      "iteration 12500: step size = 0.00023810945356001964, x = [40.5605640936893, -0.6004624957712364]\n",
      "iteration 13000: step size = 0.00017858209017001473, x = [40.58683865802124, -0.6008774594930476]\n",
      "iteration 13500: step size = 0.00017858209017001473, x = [40.60773062594458, -0.6011786229120681]\n",
      "iteration 14000: step size = 0.00023810945356001964, x = [40.624319170889926, -0.6014273069385818]\n",
      "iteration 14500: step size = 0.00017858209017001473, x = [40.637491370933944, -0.6016306547908984]\n",
      "iteration 15000: step size = 0.00023810945356001964, x = [40.6479573801486, -0.6017843609899898]\n",
      "iteration 15500: step size = 0.00017858209017001473, x = [40.65626241280987, -0.6019164737518459]\n",
      "iteration 16000: step size = 0.00023810945356001964, x = [40.66286542708665, -0.602010010840226]\n"
     ]
    },
    {
     "data": {
      "text/plain": [
       "2-element Vector{Float64}:\n",
       " 40.66555961055281\n",
       " -0.6020700717963826"
      ]
     },
     "execution_count": 73,
     "metadata": {},
     "output_type": "execute_result"
    }
   ],
   "source": [
    "## a ##\n",
    "function line_search(f, ∇f, x, p; strong=true, c1=1e-4, c2=0.9, rho=0.75)\n",
    "    α = 1    # initial step length = 1 required for newton-like methods\n",
    "    if strong == true\n",
    "        while f(x + α*p) > f(x) + c1*α*∇f(x)'*p || abs(dot(∇f(x + α*p),p)) > c2*abs(dot(∇f(x),p))\n",
    "            α = rho * α\n",
    "        end\n",
    "    else\n",
    "        while f(x + α*p) > f(x) + c1*α*transpose(∇f(x))*p || transpose(∇f(x + α*p))*p < c2*transpose(∇f(x))*p\n",
    "            α = rho * α\n",
    "        end\n",
    "    end\n",
    "    return α\n",
    "end\n",
    "\n",
    "function steepest_descent(f, ∇f, x; ϵ=1e-1, k=10)\n",
    "    i = 1\n",
    "    while norm(∇f(x)) > ϵ\n",
    "        # compute the direction\n",
    "        B = -I       # steepest descent\n",
    "        p = B * ∇f(x)\n",
    "        \n",
    "        # determine the step size\n",
    "        α = line_search(f, ∇f, x, p, c1=.1)\n",
    "\n",
    "        x = x + α*p  # the new iterate\n",
    "        i % k == 0 && println(\"iteration \", i, \": step size = \", α, \", x = \", x)\n",
    "        i += 1\n",
    "    end\n",
    "    return x\n",
    "end\n",
    "\n",
    "x0 = [1, 1]\n",
    "sd = steepest_descent(f, ∇f, x0, k=500)"
   ]
  },
  {
   "cell_type": "code",
   "execution_count": 63,
   "id": "b19a70f6",
   "metadata": {},
   "outputs": [
    {
     "name": "stdout",
     "output_type": "stream",
     "text": [
      "modifying A\n",
      "modifying A\n",
      "modifying A\n",
      "modifying A\n",
      "modifying A\n",
      "modifying A\n",
      "modifying A\n",
      "modifying A\n",
      "modifying A\n",
      "modifying A\n",
      "modifying A\n",
      "modifying A\n",
      "modifying A\n",
      "modifying A\n",
      "modifying A\n",
      "modifying A\n",
      "modifying A\n",
      "modifying A\n",
      "modifying A\n",
      "modifying A\n",
      "modifying A\n",
      "modifying A\n",
      "modifying A\n",
      "modifying A\n",
      "modifying A\n",
      "modifying A\n",
      "modifying A\n",
      "modifying A\n",
      "modifying A\n",
      "modifying A\n",
      "modifying A\n",
      "modifying A\n",
      "modifying A\n",
      "modifying A\n",
      "modifying A\n",
      "modifying A\n",
      "modifying A\n",
      "modifying A\n",
      "modifying A\n",
      "modifying A\n",
      "iteration 1. x = [3.300644802659735, 0.1341422933347548]\n",
      "modifying A\n",
      "iteration 2. x = [3.514073297395536, 0.5087037570314688]\n",
      "modifying A\n",
      "modifying A\n",
      "modifying A\n",
      "modifying A\n",
      "modifying A\n",
      "modifying A\n",
      "modifying A\n",
      "modifying A\n",
      "modifying A\n",
      "modifying A\n",
      "modifying A\n",
      "modifying A\n",
      "modifying A\n",
      "modifying A\n",
      "modifying A\n",
      "iteration 3. x = [24.32546430641866, -1.6376252213551319]\n",
      "modifying A\n",
      "iteration 4. x = [24.378205689406986, -0.7420452729922361]\n",
      "modifying A\n",
      "iteration 5. x = [24.395693547296567, -0.16132295709374223]\n",
      "iteration 6. x = [54.988913431141825, -0.7889649710133354]\n",
      "iteration 7. x = [39.78751825601428, -0.602064830175007]\n",
      "iteration 8. x = [40.67024716254489, -0.6018371982455499]\n",
      "iteration 9. x = [40.68830421259653, -0.6023936821552892]\n"
     ]
    },
    {
     "data": {
      "text/plain": [
       "2-element Vector{Float64}:\n",
       " 40.68830421259653\n",
       " -0.6023936821552892"
      ]
     },
     "execution_count": 63,
     "metadata": {},
     "output_type": "execute_result"
    }
   ],
   "source": [
    "## b ##\n",
    "using DataFrames, CSV, LinearAlgebra\n",
    "using StatsModels\n",
    "\n",
    "function cholesky_plus(A) #assumes A is square matrix\n",
    "    δ = 0.001\n",
    "    min = A[1, 1]\n",
    "    for i in range(start = 1, stop = size(A,1), step = 1)\n",
    "        if A[i, i] < min\n",
    "            min = A[i, i]\n",
    "        end\n",
    "    end\n",
    "    if min > 0\n",
    "        τ = 0\n",
    "    else \n",
    "        τ = (-1) * min + δ\n",
    "    end\n",
    "    \n",
    "    for k in range(start = 1, stop = 10000, step = 1)\n",
    "        try\n",
    "            C = cholesky(A)\n",
    "            return C\n",
    "        catch\n",
    "            println(\"modifying A\")\n",
    "            τ = max(2*τ,δ)\n",
    "            A = A + τ*I\n",
    "        end\n",
    "    end\n",
    "    println(\"giving up after 10,000 iterations\")\n",
    "end\n",
    "\n",
    "function newton(f, ∇f, ∇2f, x; ϵ=1e-1, k=10)\n",
    "    i = 1\n",
    "    \n",
    "    \n",
    "    while norm(∇f(x)) > ϵ\n",
    "        C = cholesky_plus(∇2f(x))\n",
    "        z = C.L \\ -∇f(x)\n",
    "        p = C.U \\ z #search direction\n",
    "        \n",
    "        α = line_search(f, ∇f, x, p, c1=.1)\n",
    "        #α = 1\n",
    "        x = x + α*p  # the new iterate\n",
    "        i % k == 0 && println(\"iteration \", i, \". x = \", x)\n",
    "        i += 1\n",
    "    end\n",
    "    return x\n",
    "end\n",
    "\n",
    "\n",
    "C = cholesky_plus(∇2f(x0))\n",
    "z = C.L \\ -∇f(x0)\n",
    "p = C.U \\ z #search direction\n",
    "\n",
    "n = newton(f, ∇f,∇2f, x0, k=1)"
   ]
  },
  {
   "cell_type": "code",
   "execution_count": null,
   "id": "e677c1c3",
   "metadata": {},
   "outputs": [],
   "source": [
    "## c ##\n",
    "# The newton method only takes 9 iterations to converage while the steepest \n",
    "# descent method takes over 15,000 iterations to converage.\n",
    "# The models for each of the models are very similar to eachother, I cannot even see two\n",
    "# distinct curves on the graph."
   ]
  },
  {
   "cell_type": "code",
   "execution_count": 72,
   "id": "9f6fa98b",
   "metadata": {},
   "outputs": [
    {
     "data": {
      "image/png": "[encoded data removed]"
     },
     "execution_count": 72,
     "metadata": {},
     "output_type": "execute_result"
    }
   ],
   "source": [
    "## d ##\n",
    "using Plots\n",
    "scatter(a, b, label=\"\", xlabel=\"number\", ylabel=\"cost\", fmt = :png)\n",
    "steep(x) = sd[1] * x^sd[2]\n",
    "new(x) = n[1] * x^n[2]\n",
    "plot!(steep, label = \"steepest descent\", legend = :topright)\n",
    "plot!(new, label = \"newton method\", legend = :topright)"
   ]
  }
 ],
 "metadata": {
  "kernelspec": {
   "display_name": "Julia 1.8.0",
   "language": "julia",
   "name": "julia-1.8"
  },
  "language_info": {
   "file_extension": ".jl",
   "mimetype": "application/julia",
   "name": "julia",
   "version": "1.8.0"
  }
 },
 "nbformat": 4,
 "nbformat_minor": 5
}
