{
 "cells": [
  {
   "cell_type": "code",
   "execution_count": 6,
   "id": "67d78047",
   "metadata": {},
   "outputs": [
    {
     "data": {
      "text/plain": [
       "4-element Vector{Float64}:\n",
       "  0.8192212434961242\n",
       " -0.17512426879313592\n",
       " -5.663858490269837\n",
       " 11.327716980539673"
      ]
     },
     "execution_count": 6,
     "metadata": {},
     "output_type": "execute_result"
    }
   ],
   "source": [
    "using LinearAlgebra\n",
    "\n",
    "## 4 ##\n",
    "∇2f = [10002 -1200 0 0; -1200 5402 -800 0; 0 -800 1002 400; 0 0 400 200]\n",
    "∇f = [8404, 2602, -1004, 0]\n",
    "C = cholesky(∇2f)\n",
    "z = C.L \\ ∇f\n",
    "p = C.U \\ z #search direction"
   ]
  },
  {
   "cell_type": "code",
   "execution_count": null,
   "id": "0572f4b5",
   "metadata": {},
   "outputs": [],
   "source": []
  }
 ],
 "metadata": {
  "kernelspec": {
   "display_name": "Julia 1.8.0",
   "language": "julia",
   "name": "julia-1.8"
  },
  "language_info": {
   "file_extension": ".jl",
   "mimetype": "application/julia",
   "name": "julia",
   "version": "1.8.0"
  }
 },
 "nbformat": 4,
 "nbformat_minor": 5
}
